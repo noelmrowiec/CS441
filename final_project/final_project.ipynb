{
 "cells": [
  {
   "cell_type": "code",
   "execution_count": 11,
   "metadata": {},
   "outputs": [],
   "source": [
    "#read data\n",
    "import pandas as pd\n",
    "import numpy as np\n",
    "train_data = pd.read_csv(\"house-prices-advanced-regression-techniques/train.csv\")\n",
    "test_data = pd.read_csv(\"house-prices-advanced-regression-techniques/test.csv\")"
   ]
  },
  {
   "cell_type": "code",
   "execution_count": 12,
   "metadata": {},
   "outputs": [],
   "source": [
    "#clean data\n",
    "train_data =  pd.get_dummies(train_data)\n",
    "train_data = train_data.fillna(0)\n",
    "test_data =  pd.get_dummies(test_data)\n",
    "test_data = test_data.fillna(0)\n",
    "#print(clear_data.columns)\n",
    "train_data.to_csv(\"train_data.txt\", sep=\"\\t\", index=False)\n",
    "test_data.to_csv(\"test_data.txt\", sep=\"\\t\", index=False)"
   ]
  },
  {
   "cell_type": "code",
   "execution_count": null,
   "metadata": {},
   "outputs": [],
   "source": [
    "def normalize(column):\n",
    "    return (column - column.min()) / (column.max() - column.min())\n",
    "normalized_data = data.apply(normalize)\n"
   ]
  }
 ],
 "metadata": {
  "kernelspec": {
   "display_name": "aml",
   "language": "python",
   "name": "python3"
  },
  "language_info": {
   "codemirror_mode": {
    "name": "ipython",
    "version": 3
   },
   "file_extension": ".py",
   "mimetype": "text/x-python",
   "name": "python",
   "nbconvert_exporter": "python",
   "pygments_lexer": "ipython3",
   "version": "3.12.3"
  }
 },
 "nbformat": 4,
 "nbformat_minor": 2
}
