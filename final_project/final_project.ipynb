{
 "cells": [
  {
   "cell_type": "code",
   "execution_count": 225,
   "metadata": {},
   "outputs": [
    {
     "name": "stdout",
     "output_type": "stream",
     "text": [
      "Index(['MSSubClass', 'MSZoning', 'LotFrontage', 'LotArea', 'Street', 'Alley',\n",
      "       'LotShape', 'LandContour', 'Utilities', 'LotConfig', 'LandSlope',\n",
      "       'Neighborhood', 'Condition1', 'Condition2', 'BldgType', 'HouseStyle',\n",
      "       'OverallQual', 'OverallCond', 'YearBuilt', 'YearRemodAdd', 'RoofStyle',\n",
      "       'RoofMatl', 'Exterior1st', 'Exterior2nd', 'MasVnrType', 'MasVnrArea',\n",
      "       'ExterQual', 'ExterCond', 'Foundation', 'BsmtQual', 'BsmtCond',\n",
      "       'BsmtExposure', 'BsmtFinType1', 'BsmtFinSF1', 'BsmtFinType2',\n",
      "       'BsmtFinSF2', 'BsmtUnfSF', 'TotalBsmtSF', 'Heating', 'HeatingQC',\n",
      "       'CentralAir', 'Electrical', '1stFlrSF', '2ndFlrSF', 'LowQualFinSF',\n",
      "       'GrLivArea', 'BsmtFullBath', 'BsmtHalfBath', 'FullBath', 'HalfBath',\n",
      "       'BedroomAbvGr', 'KitchenAbvGr', 'KitchenQual', 'TotRmsAbvGrd',\n",
      "       'Functional', 'Fireplaces', 'FireplaceQu', 'GarageType', 'GarageYrBlt',\n",
      "       'GarageFinish', 'GarageCars', 'GarageArea', 'GarageQual', 'GarageCond',\n",
      "       'PavedDrive', 'WoodDeckSF', 'OpenPorchSF', 'EnclosedPorch', '3SsnPorch',\n",
      "       'ScreenPorch', 'PoolArea', 'PoolQC', 'Fence', 'MiscFeature', 'MiscVal',\n",
      "       'MoSold', 'YrSold', 'SaleType', 'SaleCondition'],\n",
      "      dtype='object')\n",
      "Index(['SalePrice'], dtype='object')\n",
      "Index(['MSSubClass', 'MSZoning', 'LotFrontage', 'LotArea', 'Street', 'Alley',\n",
      "       'LotShape', 'LandContour', 'Utilities', 'LotConfig', 'LandSlope',\n",
      "       'Neighborhood', 'Condition1', 'Condition2', 'BldgType', 'HouseStyle',\n",
      "       'OverallQual', 'OverallCond', 'YearBuilt', 'YearRemodAdd', 'RoofStyle',\n",
      "       'RoofMatl', 'Exterior1st', 'Exterior2nd', 'MasVnrType', 'MasVnrArea',\n",
      "       'ExterQual', 'ExterCond', 'Foundation', 'BsmtQual', 'BsmtCond',\n",
      "       'BsmtExposure', 'BsmtFinType1', 'BsmtFinSF1', 'BsmtFinType2',\n",
      "       'BsmtFinSF2', 'BsmtUnfSF', 'TotalBsmtSF', 'Heating', 'HeatingQC',\n",
      "       'CentralAir', 'Electrical', '1stFlrSF', '2ndFlrSF', 'LowQualFinSF',\n",
      "       'GrLivArea', 'BsmtFullBath', 'BsmtHalfBath', 'FullBath', 'HalfBath',\n",
      "       'BedroomAbvGr', 'KitchenAbvGr', 'KitchenQual', 'TotRmsAbvGrd',\n",
      "       'Functional', 'Fireplaces', 'FireplaceQu', 'GarageType', 'GarageYrBlt',\n",
      "       'GarageFinish', 'GarageCars', 'GarageArea', 'GarageQual', 'GarageCond',\n",
      "       'PavedDrive', 'WoodDeckSF', 'OpenPorchSF', 'EnclosedPorch', '3SsnPorch',\n",
      "       'ScreenPorch', 'PoolArea', 'PoolQC', 'Fence', 'MiscFeature', 'MiscVal',\n",
      "       'MoSold', 'YrSold', 'SaleType', 'SaleCondition'],\n",
      "      dtype='object')\n",
      "Index(['SalePrice'], dtype='object')\n",
      "train_X.shape[1] 79, test_X.shape[1] 79\n"
     ]
    }
   ],
   "source": [
    "#read data\n",
    "import pandas as pd\n",
    "import numpy as np\n",
    "train_data = pd.read_csv(\"house-prices-advanced-regression-techniques/train.csv\")\n",
    "train_X, train_Y  = train_data.iloc[:,1:-1], train_data.iloc[:,-1:]      #not including ID. Keep data in order for cooresponding Y\n",
    "test_data = pd.read_csv(\"house-prices-advanced-regression-techniques/test.csv\")\n",
    "test_X, test_Y  = test_data.iloc[:,1:], pd.read_csv(\"house-prices-advanced-regression-techniques/sample_submission.csv\")['SalePrice']\n",
    "\n",
    "print(train_X.columns)\n",
    "print(train_Y.columns)\n",
    "print(train_X.columns)\n",
    "print(train_Y.columns)\n",
    "print(f\"train_X.shape[1] {train_X.shape[1]}, test_X.shape[1] {test_X.shape[1]}\")\n",
    "assert train_X.shape[1] == test_X.shape[1], print(f\"train_X.shape[1] {train_X.shape[1]}, test_X.shape[1] {test_X.shape[1]}\")\n",
    "assert train_X.shape[0] == train_Y.shape[0] \n",
    "assert test_X.shape[0] == test_Y.shape[0] \n"
   ]
  },
  {
   "cell_type": "code",
   "execution_count": 226,
   "metadata": {},
   "outputs": [
    {
     "name": "stdout",
     "output_type": "stream",
     "text": [
      "train_X.shape[1] 79, test_X.shape[1] 79\n",
      "0\n"
     ]
    }
   ],
   "source": [
    "#clean data\n",
    "print(f\"train_X.shape[1] {train_X.shape[1]}, test_X.shape[1] {test_X.shape[1]}\")\n",
    "def normalize(column):\n",
    "    return (column - column.min()) / (column.max() - column.min())\n",
    "\n",
    "#first combine data, so that get_dummies will have all classes\n",
    "all_data = pd.concat([train_X, test_X], axis=0)\n",
    "\n",
    "all_data_dummy = pd.get_dummies(all_data)\n",
    "all_data_dummy = all_data_dummy.fillna(0).astype(float).apply(normalize)\n",
    "\n",
    "train_X = all_data_dummy.iloc[:train_X.shape[0]]\n",
    "test_X =  all_data_dummy.iloc[train_X.shape[0]:]\n",
    "#print(clear_data.columns)\n",
    "print(test_X.isna().sum().sum())\n",
    "\n",
    "\n",
    "\n",
    "assert train_X.shape[1] == test_X.shape[1], print(f\"train_X.shape[1] {train_X.shape[1]}, test_X.shape[1] {test_X.shape[1]}\")\n"
   ]
  },
  {
   "cell_type": "code",
   "execution_count": 227,
   "metadata": {},
   "outputs": [],
   "source": [
    "from sklearn.neighbors import KNeighborsRegressor\n",
    "from keras.models import Sequential\n",
    "from keras.layers import Dense\n",
    "from sklearn.linear_model import LinearRegression\n",
    "from sklearn.ensemble import RandomForestRegressor\n",
    "from sklearn.model_selection import train_test_split\n",
    "from sklearn.metrics import mean_squared_error\n",
    "import warnings\n",
    "import matplotlib.pyplot as plt\n",
    "import seaborn as sns\n",
    "import time\n",
    "warnings.filterwarnings('ignore')\n",
    "\n",
    "\n",
    "def KNN(X_train, Y_train, X_val, Y_val, K):\n",
    "  \"\"\"\n",
    "  K nearest neighbour algorithm\n",
    "  \"\"\"\n",
    "  knn = KNeighborsRegressor(n_neighbors=K)\n",
    "  knn.fit(X_train, Y_train)\n",
    "  Y_pred = knn.predict(X_val)\n",
    "  rmse = np.sqrt(np.mean((Y_pred-Y_val)**2))\n",
    "  print(\"KNN Model Parameters:\", knn.get_params())\n",
    "  return rmse, Y_pred\n",
    "\n",
    "\n",
    "\n",
    "def DNN(X_train, Y_train, X_val, Y_val, epoch):\n",
    "  model = Sequential()\n",
    "  model.add(Dense(64, activation='relu', input_shape=(5,)))  \n",
    "  model.add(Dense(64, activation='relu'))  \n",
    "  model.add(Dense(1))  \n",
    "  model.compile(optimizer='adam', loss='mse')\n",
    "  model.fit(X_train, Y_train, epochs=epoch, batch_size=32, verbose=0)\n",
    "  Y_pred = model.predict(X_val)\n",
    "  rmse = np.sqrt(np.mean((Y_pred-Y_val)**2))\n",
    "  print(\"DNN Model Parameters:\", model.get_config())\n",
    "  return rmse, Y_pred\n",
    "\n",
    "\n",
    "def LR(X_train, Y_train, X_val, Y_val):\n",
    "  regression = LinearRegression()\n",
    "  regression.fit(X_train, Y_train)\n",
    "  Y_pred = regression.predict(X_val)\n",
    "  rmse = np.sqrt(np.mean((Y_pred-Y_val)**2))\n",
    "  print(\"Intercept:\", regression.intercept_)\n",
    "  print(\"Coefficients:\", regression.coef_)\n",
    "  \n",
    "  return rmse, Y_pred\n",
    "\n",
    "\n",
    "def Forest(X_train, Y_train, X_val, Y_val, num):\n",
    "  forest = RandomForestRegressor(n_estimators=num)\n",
    "  forest.fit(X_train, Y_train)\n",
    "  Y_pred = forest.predict(X_val)\n",
    "  rmse = mean_squared_error(Y_val, Y_pred, squared=False)\n",
    "  print(\"number of trees:\", forest.n_estimators)\n",
    "  print(\"max features:\", forest.max_features)\n",
    "  print(\"depth:\", forest.max_depth)\n",
    "  return rmse, Y_pred\n",
    "  "
   ]
  },
  {
   "cell_type": "code",
   "execution_count": 228,
   "metadata": {},
   "outputs": [],
   "source": [
    "# train_X = train_X.dropna().to_numpy()\n",
    "# train_Y = train_Y.dropna().to_numpy()\n",
    "# test_X = test_X.dropna().to_numpy()\n",
    "# test_Y = test_Y.dropna().to_numpy()\n"
   ]
  },
  {
   "cell_type": "code",
   "execution_count": 229,
   "metadata": {},
   "outputs": [],
   "source": [
    "\n",
    "train_X.to_csv(\"train_X.txt\", sep=\"\\t\", index=False)\n",
    "test_X.to_csv(\"test_X.txt\", sep=\"\\t\", index=False)"
   ]
  },
  {
   "cell_type": "code",
   "execution_count": 230,
   "metadata": {},
   "outputs": [
    {
     "name": "stdout",
     "output_type": "stream",
     "text": [
      "(1460, 287)\n",
      "(1460, 1)\n",
      "(1459, 287)\n",
      "(1459,)\n"
     ]
    }
   ],
   "source": [
    "print(train_X.shape)\n",
    "print(train_Y.shape)\n",
    "print(test_X.shape)\n",
    "print(test_Y.shape)\n",
    "train_Y = np.squeeze(train_Y)"
   ]
  },
  {
   "cell_type": "code",
   "execution_count": 231,
   "metadata": {},
   "outputs": [
    {
     "name": "stdout",
     "output_type": "stream",
     "text": [
      "KNN Model Parameters: {'algorithm': 'auto', 'leaf_size': 30, 'metric': 'minkowski', 'metric_params': None, 'n_jobs': None, 'n_neighbors': 1, 'p': 2, 'weights': 'uniform'}\n",
      "K=1, KNN: 75987.68065477347\n",
      "KNN Model Parameters: {'algorithm': 'auto', 'leaf_size': 30, 'metric': 'minkowski', 'metric_params': None, 'n_jobs': None, 'n_neighbors': 2, 'p': 2, 'weights': 'uniform'}\n",
      "K=2, KNN: 70480.048457487\n",
      "KNN Model Parameters: {'algorithm': 'auto', 'leaf_size': 30, 'metric': 'minkowski', 'metric_params': None, 'n_jobs': None, 'n_neighbors': 4, 'p': 2, 'weights': 'uniform'}\n",
      "K=4, KNN: 66906.92856361027\n",
      "KNN Model Parameters: {'algorithm': 'auto', 'leaf_size': 30, 'metric': 'minkowski', 'metric_params': None, 'n_jobs': None, 'n_neighbors': 8, 'p': 2, 'weights': 'uniform'}\n",
      "K=8, KNN: 64172.22122251133\n",
      "KNN Model Parameters: {'algorithm': 'auto', 'leaf_size': 30, 'metric': 'minkowski', 'metric_params': None, 'n_jobs': None, 'n_neighbors': 16, 'p': 2, 'weights': 'uniform'}\n",
      "K=16, KNN: 62365.393887394785\n",
      "KNN Model Parameters: {'algorithm': 'auto', 'leaf_size': 30, 'metric': 'minkowski', 'metric_params': None, 'n_jobs': None, 'n_neighbors': 32, 'p': 2, 'weights': 'uniform'}\n",
      "K=32, KNN: 58416.58740826418\n",
      "KNN Model Parameters: {'algorithm': 'auto', 'leaf_size': 30, 'metric': 'minkowski', 'metric_params': None, 'n_jobs': None, 'n_neighbors': 64, 'p': 2, 'weights': 'uniform'}\n",
      "K=64, KNN: 54262.088314496206\n",
      "KNN Model Parameters: {'algorithm': 'auto', 'leaf_size': 30, 'metric': 'minkowski', 'metric_params': None, 'n_jobs': None, 'n_neighbors': 128, 'p': 2, 'weights': 'uniform'}\n",
      "K=128, KNN: 50038.65996064854\n"
     ]
    },
    {
     "data": {
      "image/png": "[encoded data removed]",
      "text/plain": [
       "<Figure size 640x480 with 1 Axes>"
      ]
     },
     "metadata": {},
     "output_type": "display_data"
    }
   ],
   "source": [
    "K_set = []\n",
    "rmse_set = []\n",
    "for K in [1, 2, 4, 8, 16, 32, 64, 128]:\n",
    "  rmse_KNN, Y_pred_KNN = KNN(train_X, train_Y, test_X, test_Y, K)\n",
    "  K_set.append(K)\n",
    "  rmse_set.append(rmse_KNN)\n",
    "  print(f\"K={K}, KNN: {rmse_KNN}\")\n",
    "  \n",
    "plt.plot(K_set, rmse_set, marker='o')\n",
    "plt.xlabel('K')\n",
    "plt.ylabel('RMSE')\n",
    "plt.title('Relationship between K and RMSE')\n",
    "plt.show()"
   ]
  }
 ],
 "metadata": {
  "kernelspec": {
   "display_name": "aml",
   "language": "python",
   "name": "python3"
  },
  "language_info": {
   "codemirror_mode": {
    "name": "ipython",
    "version": 3
   },
   "file_extension": ".py",
   "mimetype": "text/x-python",
   "name": "python",
   "nbconvert_exporter": "python",
   "pygments_lexer": "ipython3",
   "version": "3.10.13"
  }
 },
 "nbformat": 4,
 "nbformat_minor": 2
}
