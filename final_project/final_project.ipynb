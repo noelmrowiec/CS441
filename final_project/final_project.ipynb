{
 "cells": [
  {
   "cell_type": "code",
   "execution_count": 41,
   "metadata": {},
   "outputs": [
    {
     "name": "stdout",
     "output_type": "stream",
     "text": [
      "Index(['MSSubClass', 'MSZoning', 'LotFrontage', 'LotArea', 'Street', 'Alley',\n",
      "       'LotShape', 'LandContour', 'Utilities', 'LotConfig', 'LandSlope',\n",
      "       'Neighborhood', 'Condition1', 'Condition2', 'BldgType', 'HouseStyle',\n",
      "       'OverallQual', 'OverallCond', 'YearBuilt', 'YearRemodAdd', 'RoofStyle',\n",
      "       'RoofMatl', 'Exterior1st', 'Exterior2nd', 'MasVnrType', 'MasVnrArea',\n",
      "       'ExterQual', 'ExterCond', 'Foundation', 'BsmtQual', 'BsmtCond',\n",
      "       'BsmtExposure', 'BsmtFinType1', 'BsmtFinSF1', 'BsmtFinType2',\n",
      "       'BsmtFinSF2', 'BsmtUnfSF', 'TotalBsmtSF', 'Heating', 'HeatingQC',\n",
      "       'CentralAir', 'Electrical', '1stFlrSF', '2ndFlrSF', 'LowQualFinSF',\n",
      "       'GrLivArea', 'BsmtFullBath', 'BsmtHalfBath', 'FullBath', 'HalfBath',\n",
      "       'BedroomAbvGr', 'KitchenAbvGr', 'KitchenQual', 'TotRmsAbvGrd',\n",
      "       'Functional', 'Fireplaces', 'FireplaceQu', 'GarageType', 'GarageYrBlt',\n",
      "       'GarageFinish', 'GarageCars', 'GarageArea', 'GarageQual', 'GarageCond',\n",
      "       'PavedDrive', 'WoodDeckSF', 'OpenPorchSF', 'EnclosedPorch', '3SsnPorch',\n",
      "       'ScreenPorch', 'PoolArea', 'PoolQC', 'Fence', 'MiscFeature', 'MiscVal',\n",
      "       'MoSold', 'YrSold', 'SaleType', 'SaleCondition'],\n",
      "      dtype='object')\n",
      "Index(['SalePrice'], dtype='object')\n",
      "Index(['MSSubClass', 'MSZoning', 'LotFrontage', 'LotArea', 'Street', 'Alley',\n",
      "       'LotShape', 'LandContour', 'Utilities', 'LotConfig', 'LandSlope',\n",
      "       'Neighborhood', 'Condition1', 'Condition2', 'BldgType', 'HouseStyle',\n",
      "       'OverallQual', 'OverallCond', 'YearBuilt', 'YearRemodAdd', 'RoofStyle',\n",
      "       'RoofMatl', 'Exterior1st', 'Exterior2nd', 'MasVnrType', 'MasVnrArea',\n",
      "       'ExterQual', 'ExterCond', 'Foundation', 'BsmtQual', 'BsmtCond',\n",
      "       'BsmtExposure', 'BsmtFinType1', 'BsmtFinSF1', 'BsmtFinType2',\n",
      "       'BsmtFinSF2', 'BsmtUnfSF', 'TotalBsmtSF', 'Heating', 'HeatingQC',\n",
      "       'CentralAir', 'Electrical', '1stFlrSF', '2ndFlrSF', 'LowQualFinSF',\n",
      "       'GrLivArea', 'BsmtFullBath', 'BsmtHalfBath', 'FullBath', 'HalfBath',\n",
      "       'BedroomAbvGr', 'KitchenAbvGr', 'KitchenQual', 'TotRmsAbvGrd',\n",
      "       'Functional', 'Fireplaces', 'FireplaceQu', 'GarageType', 'GarageYrBlt',\n",
      "       'GarageFinish', 'GarageCars', 'GarageArea', 'GarageQual', 'GarageCond',\n",
      "       'PavedDrive', 'WoodDeckSF', 'OpenPorchSF', 'EnclosedPorch', '3SsnPorch',\n",
      "       'ScreenPorch', 'PoolArea', 'PoolQC', 'Fence', 'MiscFeature', 'MiscVal',\n",
      "       'MoSold', 'YrSold', 'SaleType', 'SaleCondition'],\n",
      "      dtype='object')\n",
      "Index(['SalePrice'], dtype='object')\n",
      "train_X.shape[1] 79, test_X.shape[1] 79\n"
     ]
    }
   ],
   "source": [
    "#read data\n",
    "import pandas as pd\n",
    "import numpy as np\n",
    "train_data = pd.read_csv(\"house-prices-advanced-regression-techniques/train.csv\")\n",
    "train_X, train_Y  = train_data.iloc[:,1:-1], train_data.iloc[:,-1:]      #not including ID. Keep data in order for cooresponding Y\n",
    "test_data = pd.read_csv(\"house-prices-advanced-regression-techniques/test.csv\").iloc[:,1:]\n",
    "test_X, test_Y  = test_data, pd.read_csv(\"house-prices-advanced-regression-techniques/sample_submission.csv\")['SalePrice']\n",
    "\n",
    "print(train_X.columns)\n",
    "print(train_Y.columns)\n",
    "print(train_X.columns)\n",
    "print(train_Y.columns)\n",
    "print(f\"train_X.shape[1] {train_X.shape[1]}, test_X.shape[1] {test_X.shape[1]}\")\n",
    "assert train_X.shape[1] == test_X.shape[1], print(f\"train_X.shape[1] {train_X.shape[1]}, test_X.shape[1] {test_X.shape[1]}\")\n",
    "assert train_X.shape[0] == train_Y.shape[0] \n",
    "assert test_X.shape[0] == test_Y.shape[0] \n"
   ]
  },
  {
   "cell_type": "code",
   "execution_count": 42,
   "metadata": {},
   "outputs": [
    {
     "name": "stdout",
     "output_type": "stream",
     "text": [
      "train_X.shape[1] 79, test_X.shape[1] 79\n"
     ]
    }
   ],
   "source": [
    "#clean data\n",
    "print(f\"train_X.shape[1] {train_X.shape[1]}, test_X.shape[1] {test_X.shape[1]}\")\n",
    "\n",
    "#first combine data, so that get_dummies will have all classes\n",
    "all_data = pd.concat([train_X, test_X], axis=0)\n",
    "\n",
    "all_data_dummy = pd.get_dummies(all_data)\n",
    "all_data_dummy = all_data_dummy.fillna(0)\n",
    "\n",
    "train_X = all_data_dummy.iloc[:train_X.shape[0]]\n",
    "test_X =  all_data_dummy.iloc[train_X.shape[0]:]\n",
    "#print(clear_data.columns)\n",
    "\n",
    "\n",
    "\n",
    "assert train_X.shape[1] == test_X.shape[1], print(f\"train_X.shape[1] {train_X.shape[1]}, test_X.shape[1] {test_X.shape[1]}\")\n",
    "\n",
    "train_X.to_csv(\"train_X.txt\", sep=\"\\t\", index=False)\n",
    "test_X.to_csv(\"test_X.txt\", sep=\"\\t\", index=False)"
   ]
  },
  {
   "cell_type": "code",
   "execution_count": 43,
   "metadata": {},
   "outputs": [],
   "source": [
    "def normalize(column):\n",
    "    return (column - column.min()) / (column.max() - column.min())\n",
    "\n",
    "train_X = train_X.astype(float)\n",
    "test_X  = test_X.astype(float)\n",
    "\n",
    "train_X = train_X.apply(normalize)\n",
    "test_X  = test_X.apply(normalize)\n",
    "\n",
    "train_X.to_csv(\"train_X.txt\", sep=\"\\t\", index=False)\n",
    "test_X.to_csv(\"test_X.txt\", sep=\"\\t\", index=False)"
   ]
  },
  {
   "cell_type": "code",
   "execution_count": 44,
   "metadata": {},
   "outputs": [
    {
     "name": "stdout",
     "output_type": "stream",
     "text": [
      "train_X.shape (1460, 287)\n"
     ]
    }
   ],
   "source": [
    "#Linear Regression\n",
    "#first do PCA\n",
    "print(f\"train_X.shape {train_X.shape}\")"
   ]
  }
 ],
 "metadata": {
  "kernelspec": {
   "display_name": "aml",
   "language": "python",
   "name": "python3"
  },
  "language_info": {
   "codemirror_mode": {
    "name": "ipython",
    "version": 3
   },
   "file_extension": ".py",
   "mimetype": "text/x-python",
   "name": "python",
   "nbconvert_exporter": "python",
   "pygments_lexer": "ipython3",
   "version": "3.10.13"
  }
 },
 "nbformat": 4,
 "nbformat_minor": 2
}
