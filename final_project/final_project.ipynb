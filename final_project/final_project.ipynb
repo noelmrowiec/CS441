{
 "cells": [
  {
   "cell_type": "code",
   "execution_count": 17,
   "metadata": {},
   "outputs": [],
   "source": [
    "#read data\n",
    "import pandas as pd\n",
    "import numpy as np\n",
    "train_data = pd.read_csv(\"house-prices-advanced-regression-techniques/train.csv\")\n",
    "test_data = pd.read_csv(\"house-prices-advanced-regression-techniques/test.csv\")"
   ]
  },
  {
   "cell_type": "code",
   "execution_count": 18,
   "metadata": {},
   "outputs": [],
   "source": [
    "#clean data\n",
    "train_data =  pd.get_dummies(train_data)\n",
    "train_data = train_data.fillna(0)\n",
    "test_data =  pd.get_dummies(test_data)\n",
    "test_data = test_data.fillna(0)\n",
    "#print(clear_data.columns)\n",
    "train_data.to_csv(\"train_data.txt\", sep=\"\\t\", index=False)\n",
    "test_data.to_csv(\"test_data.txt\", sep=\"\\t\", index=False)"
   ]
  },
  {
   "cell_type": "code",
   "execution_count": 19,
   "metadata": {},
   "outputs": [],
   "source": [
    "def normalize(column):\n",
    "    return (column - column.min()) / (column.max() - column.min())\n",
    "\n",
    "train_data = train_data.astype(float)\n",
    "test_data  = test_data.astype(float)\n",
    "\n",
    "train_data.iloc[:,1:] = train_data.iloc[:,1:].apply(normalize)\n",
    "test_data.iloc[:,1:]  = test_data.iloc[:,1:].apply(normalize)\n",
    "\n",
    "train_data.to_csv(\"train_data.txt\", sep=\"\\t\", index=False)\n",
    "test_data.to_csv(\"test_data.txt\", sep=\"\\t\", index=False)"
   ]
  }
 ],
 "metadata": {
  "kernelspec": {
   "display_name": "aml",
   "language": "python",
   "name": "python3"
  },
  "language_info": {
   "codemirror_mode": {
    "name": "ipython",
    "version": 3
   },
   "file_extension": ".py",
   "mimetype": "text/x-python",
   "name": "python",
   "nbconvert_exporter": "python",
   "pygments_lexer": "ipython3",
   "version": "3.12.3"
  }
 },
 "nbformat": 4,
 "nbformat_minor": 2
}
