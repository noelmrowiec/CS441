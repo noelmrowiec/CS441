{
 "cells": [
  {
   "cell_type": "code",
   "execution_count": 2,
   "metadata": {},
   "outputs": [
    {
     "name": "stdout",
     "output_type": "stream",
     "text": [
      "Shape of raw data (1460, 79)\n",
      "train_X.shape[1] 81, test_X.shape[1] 81\n",
      "all_data.shape[1] 79\n",
      "Total number of NaN values in the DataFrame: 7829\n",
      "Total number of NaN values in the DataFrame: 0\n",
      "train_X_stand.shape (1021, 317), test_X_stand.shape (439, 317)\n",
      "Total number of NaN values in the DataFrame: 0\n",
      "Total number of NaN values in the DataFrame: 0\n"
     ]
    },
    {
     "name": "stderr",
     "output_type": "stream",
     "text": [
      "/tmp/ipykernel_161204/2591865301.py:2: DeprecationWarning: \n",
      "Pyarrow will become a required dependency of pandas in the next major release of pandas (pandas 3.0),\n",
      "(to allow more performant data types, such as the Arrow string type, and better interoperability with other libraries)\n",
      "but was not found to be installed on your system.\n",
      "If this would cause problems for you,\n",
      "please provide us feedback at https://github.com/pandas-dev/pandas/issues/54466\n",
      "        \n",
      "  import pandas as pd\n"
     ]
    }
   ],
   "source": [
    "#read data\n",
    "import pandas as pd\n",
    "import numpy as np\n",
    "from sklearn.model_selection import train_test_split\n",
    "from sklearn.preprocessing import StandardScaler\n",
    "\n",
    "data = pd.read_csv(\"house-prices-advanced-regression-techniques/train.csv\")\n",
    "data_X, data_Y  = data.iloc[:,1:-1], data.iloc[:,-1:]      #not including ID. Keep data in order for cooresponding Y\n",
    "\n",
    "print(f\"Shape of raw data {data_X.shape}\")\n",
    "\n",
    "# test_data = pd.read_csv(\"house-prices-advanced-regression-techniques/test.csv\").iloc[:,1:]\n",
    "# test_X, test_Y  = test_data, pd.read_csv(\"house-prices-advanced-regression-techniques/sample_submission.csv\")['SalePrice']\n",
    "\n",
    "col_list = ['MSZoning','Street','Alley','LotShape','LandContour','Utilities','LotConfig','LandSlope','Neighborhood','Condition1','Condition2','BldgType','HouseStyle','RoofStyle','RoofMatl','Exterior1st','Exterior2nd','MasVnrType','ExterQual','ExterCond','Foundation','BsmtQual','BsmtCond','BsmtExposure','BsmtFinType1','BsmtFinType2','Heating','HeatingQC','CentralAir','Electrical','KitchenQual','Functional','FireplaceQu','GarageType','GarageFinish','GarageQual','GarageCond','PavedDrive','PoolQC','Fence','MiscFeature','SaleType','SaleCondition']\n",
    "\n",
    "\n",
    "print(f\"train_X.shape[1] {data.shape[1]}, test_X.shape[1] {data.shape[1]}\")\n",
    "\n",
    "print(f\"all_data.shape[1] {data_X.shape[1]}\")\n",
    "\n",
    "#currently, data has NaN\n",
    "total_nan_count = pd.isna(data_X).sum().sum()\n",
    "print(f\"Total number of NaN values in the DataFrame: {total_nan_count}\")\n",
    "\n",
    "#fix the NaN\n",
    "data_X[col_list] = data_X[col_list].fillna('No')\n",
    "data_X = data_X.fillna(0)\n",
    "\n",
    "#now, no NaN or blanks\n",
    "total_nan_count = pd.isna(data_X).sum().sum()\n",
    "print(f\"Total number of NaN values in the DataFrame: {total_nan_count}\")\n",
    "\n",
    "#data_X.to_csv(\"data_X.txt\", sep=\"\\t\", index=False)\n",
    "\n",
    "#treat the month and year sold as a category \n",
    "#source https://www.kaggle.com/code/hobeomlee/prediction-stacked-regressions\n",
    "data_X['MoSold'] = data_X['MoSold'].replace({1: 'Jan', 2: 'Feb', 3: 'Mar', 4: 'Apr', 5: 'May', 6: 'Jun', 7: 'Jul', 8: 'Aug', 9: 'Sep', 10: 'Oct', 11: 'Nov', 12: 'Dec'})\n",
    "data_X['YrSold'] = data_X['YrSold'].astype('str')\n",
    "\n",
    "#do one-hot encoding\n",
    "all_data_dummy = pd.get_dummies(data_X).astype(float)\n",
    "#print(all_data_dummy.describe(include='all'))\n",
    "\n",
    "\n",
    "train_X_raw, test_X_raw, train_Y, test_Y = train_test_split(all_data_dummy, data_Y, train_size=.7, random_state=0)\n",
    "\n",
    "#standarize\n",
    "scaler = StandardScaler()\n",
    "train_X_stand = scaler.fit_transform(train_X_raw)\n",
    "test_X_stand  = scaler.transform(test_X_raw)\n",
    "\n",
    "#normalized data\n",
    "from sklearn.preprocessing import normalize\n",
    "train_X_norm = normalize(train_X_raw, axis=0)\n",
    "test_X_norm = normalize(test_X_raw, axis=0)\n",
    "\n",
    "#don't use val unless needed\n",
    "#train_X_norm, val_X_norm, train_Y_norm, val_Y_norm = train_test_split(train_X_norm, train_Y_norm, train_size=.8, random_state=0)\n",
    "\n",
    "#todo only use the validation set when tuning do not set at top level because linear regression needs all data\n",
    "#train_X, val_X, train_Y, val_Y = train_test_split(train_X, train_Y, train_size=.8, random_state=0)\n",
    "#print(clear_data.columns)\n",
    "\n",
    "\n",
    "assert train_X_norm.shape[1] == train_X_norm.shape[1], print(f\"train_X.shape[1] {train_X_norm.shape[1]}, test_X.shape[1] {train_X_norm.shape[1]}\")\n",
    "print(f\"train_X_stand.shape {train_X_stand.shape}, test_X_stand.shape {test_X_stand.shape}\")\n",
    "\n",
    "# train_X.to_csv(\"train_X.txt\", sep=\"\\t\", index=False)\n",
    "# test_X.to_csv(\"test_X.txt\", sep=\"\\t\", index=False)\n",
    "\n",
    "total_nan_count = pd.isna(train_X_norm).sum().sum()\n",
    "print(f\"Total number of NaN values in the DataFrame: {total_nan_count}\")\n",
    "total_nan_count = pd.isna(test_X_norm).sum().sum()\n",
    "print(f\"Total number of NaN values in the DataFrame: {total_nan_count}\")\n",
    "# total_nan_count = pd.isna(val_X).sum().sum()\n",
    "# print(f\"Total number of NaN values in the DataFrame: {total_nan_count}\")\n",
    "\n",
    "# train_X.to_csv(\"train_X.txt\", sep=\"\\t\", index=False)\n",
    "# test_X.to_csv(\"test_X.txt\", sep=\"\\t\", index=False)\n",
    "# val_X.to_csv(\"val_X.txt\", sep=\"\\t\", index=False)\n",
    "#test_X = test_X.fillna('No')\n",
    "\n",
    "\n",
    "assert train_X_stand.shape[1] == test_X_stand.shape[1], print(f\"train_X.shape[1] {train_X_stand.shape[1]}, test_X.shape[1] {test_X_stand.shape[1]}\")\n",
    "assert test_X_stand.shape[0] == test_Y.shape[0] \n"
   ]
  },
  {
   "cell_type": "code",
   "execution_count": 3,
   "metadata": {},
   "outputs": [
    {
     "name": "stdout",
     "output_type": "stream",
     "text": [
      "<class 'pandas.core.frame.DataFrame'>\n"
     ]
    }
   ],
   "source": [
    "#convert to numpy\n",
    "print(type(train_Y))\n",
    "train_Y = train_Y.to_numpy()\n",
    "#val_Y   = val_Y.to_numpy()\n",
    "test_Y  = test_Y.to_numpy()"
   ]
  },
  {
   "cell_type": "code",
   "execution_count": 4,
   "metadata": {},
   "outputs": [
    {
     "name": "stdout",
     "output_type": "stream",
     "text": [
      "<class 'numpy.ndarray'>\n",
      "Root Mean Squared Error for normalized data (RMSE): 1.58E+18\n",
      "Root Mean Squared Error for standardized data (RMSE): 3.08E+17\n",
      "<class 'numpy.ndarray'>\n"
     ]
    }
   ],
   "source": [
    "print(type(train_Y))\n",
    "\n",
    "from sklearn.linear_model import LinearRegression\n",
    "from sklearn.metrics import mean_squared_error\n",
    "\n",
    "#normalized\n",
    "lr = LinearRegression().fit(train_X_norm, train_Y)\n",
    "\n",
    "y_pred = lr.predict(test_X_norm)\n",
    "rmse = np.sqrt(mean_squared_error(test_Y, y_pred))\n",
    "print(f\"Root Mean Squared Error for normalized data (RMSE): {rmse:.2E}\")\n",
    "\n",
    "#standardized\n",
    "lr = LinearRegression().fit(train_X_stand, train_Y)\n",
    "# Make predictions\n",
    "y_pred = lr.predict(test_X_stand)\n",
    "# Calculate RMSE\n",
    "rmse = np.sqrt(mean_squared_error(test_Y, y_pred))\n",
    "print(f\"Root Mean Squared Error for standardized data (RMSE): {rmse:.2E}\")\n",
    "\n",
    "print(type(train_Y))\n"
   ]
  },
  {
   "cell_type": "code",
   "execution_count": 5,
   "metadata": {},
   "outputs": [
    {
     "name": "stdout",
     "output_type": "stream",
     "text": [
      "Baseline RMSE: 78129.67\n"
     ]
    }
   ],
   "source": [
    "#compare to just a average\n",
    "y_pred = [train_Y.mean()] * len(train_Y)\n",
    "rmse = np.sqrt(mean_squared_error(train_Y.flatten(), y_pred))\n",
    "print(f\"Baseline RMSE: {rmse:.2f}\")"
   ]
  },
  {
   "cell_type": "code",
   "execution_count": 6,
   "metadata": {},
   "outputs": [
    {
     "name": "stdout",
     "output_type": "stream",
     "text": [
      "The min RSME is 30836 for 72 number of features\n"
     ]
    },
    {
     "data": {
      "image/png": "[encoded data removed]",
      "text/plain": [
       "<Figure size 800x600 with 1 Axes>"
      ]
     },
     "metadata": {},
     "output_type": "display_data"
    },
    {
     "name": "stdout",
     "output_type": "stream",
     "text": [
      "best features 72\n"
     ]
    }
   ],
   "source": [
    "#picking features to do linear regression\n",
    "#source https://machinelearningmastery.com/feature-selection-for-regression-data/\n",
    "\n",
    "from sklearn.feature_selection import SelectKBest\n",
    "from sklearn.feature_selection import f_regression\n",
    "import matplotlib.pyplot as plt\n",
    "from sklearn.model_selection import cross_val_score\n",
    "\n",
    "\n",
    "\n",
    "def linear_regression_select(x_train, y_train, features):\n",
    "    # feature selection\n",
    "    #k is the number of top features\n",
    "\n",
    "    cv_scores = []\n",
    "\n",
    "    for k in features:\n",
    "        feature_selection = SelectKBest(score_func=f_regression, k=k)\n",
    "        feature_selection.fit(x_train, y_train.flatten())\n",
    "\n",
    "        train_X_best_features = feature_selection.transform(x_train)\n",
    "        #test_X_tranformed  = feature_selection.transform(x_val)\n",
    "        lr = LinearRegression().fit(train_X_best_features, y_train.flatten())\n",
    "\n",
    "        score = cross_val_score(lr, train_X_best_features, y_train, scoring='neg_root_mean_squared_error', cv=5)\n",
    "\n",
    "        cv_scores.append(np.mean(score)*-1)    #multiply by negitive 1 because getting negitive RMSE\n",
    "        #print(f\"For train size 100%, number of features: {k}\")\n",
    "        # np.savetxt(f\"linear_regression_output/coef_{1}.txt\", np.round(model.coef_, 1), delimiter=\",\")\n",
    "        # print(f\"model y-intercet: {model.intercept_}\")\n",
    "        \n",
    "        #y_pred = lr.predict(test_X_tranformed)\n",
    "\n",
    "        #Calculate RMSE\n",
    "        # rmse = np.sqrt(mean_squared_error(y_val.flatten(), y_pred))\n",
    "        # if rmse < min_rmse: \n",
    "        #     min_features = k\n",
    "        #     min_rmse = rmse\n",
    "\n",
    "        # rmse_list.append(rmse)\n",
    "\n",
    "\n",
    "    min_CV_RSME = min(cv_scores)\n",
    "    index = cv_scores.index(min_CV_RSME)\n",
    "    print(f\"The min RSME is {min_CV_RSME:.0f} for {features[index]} number of features\")\n",
    "\n",
    "    \n",
    "\n",
    "    # Create a plot\n",
    "    plt.figure(figsize=(8, 6))\n",
    "    plt.plot(features, cv_scores, marker=\"o\", linestyle=\"--\", color=\"r\")\n",
    "    #plt.yscale('log')\n",
    "    plt.xlabel(\"Number of features\")\n",
    "    plt.ylabel(\"RMSE\")\n",
    "    plt.title(\"Linear Regression\\nFinding best number of features\")\n",
    "    plt.grid(True)\n",
    "    plt.show()\n",
    "\n",
    "    return index\n",
    "\n",
    "features = [2,10,20,30,40, 50, 60, 69, 70, 71, 72, 73,74,75, 80, ]#90, 100, 120, 130, 150, 160, 174, 176, 177, 178, 179, 180, 181, 182, 190, 192, 193] \n",
    "best_features_index = linear_regression_select(train_X_stand, train_Y, features)\n",
    "print(f\"best features {features[best_features_index]}\")\n",
    "\n"
   ]
  },
  {
   "cell_type": "code",
   "execution_count": 7,
   "metadata": {},
   "outputs": [
    {
     "name": "stdout",
     "output_type": "stream",
     "text": [
      "For testing our linear regression model with 72 features, the RSME is 38717.05\n"
     ]
    }
   ],
   "source": [
    "#using the ideal number of features to perform testing\n",
    "best_num_features = features[best_features_index]\n",
    "\n",
    "feature_selection = SelectKBest(score_func=f_regression, k=best_num_features)\n",
    "feature_selection.fit(train_X_stand, train_Y.flatten())\n",
    "\n",
    "train_X_best_features = feature_selection.transform(train_X_stand)\n",
    "test_X_best_features  = feature_selection.transform(test_X_stand)\n",
    "\n",
    "lr = LinearRegression().fit(train_X_best_features, train_Y.flatten())\n",
    "\n",
    "y_pred = lr.predict(test_X_best_features)\n",
    "\n",
    "rmse = np.sqrt(mean_squared_error(test_Y.flatten(), y_pred))\n",
    "\n",
    "print(f\"For testing our linear regression model with {best_num_features} features, the RSME is {rmse:.2f}\")\n"
   ]
  },
  {
   "cell_type": "markdown",
   "metadata": {},
   "source": [
    "below didn't work"
   ]
  },
  {
   "cell_type": "code",
   "execution_count": 8,
   "metadata": {},
   "outputs": [],
   "source": [
    "#remove constant features \n",
    "# using sklearn variancethreshold to find constant features\n",
    "\n",
    "# from sklearn.feature_selection import VarianceThreshold\n",
    "# sel = VarianceThreshold(threshold=0.1)\n",
    "# sel.fit(train_X_stand)  # fit finds the features with zero variance\n",
    "\n",
    "# # get_support is a boolean vector that indicates which features are retained\n",
    "# # if we sum over get_support, we get the number of features that are not constant\n",
    "# print(f\"number of features that are not constant {sum(sel.get_support())}\")\n",
    "# print(f\"num features {train_X_stand.shape}\")\n",
    "# # # print the constant features\n",
    "# # print(\n",
    "# #     len([\n",
    "# #         x for x in train_X_stand.columns\n",
    "# #         if x not in train_X_stand.columns[sel.get_support()]\n",
    "# #     ]))\n",
    "# mask = sel.get_support()\n",
    "# false_indices = np.where(~mask)[0]\n",
    "# print(\"Indices where the mask is False:\", false_indices)\n",
    "\n",
    "# # we can then drop these columns from the train and test sets\n",
    "# train_X_trans = sel.transform(train_X_stand)\n",
    "# test_X_trans = sel.transform(test_X_stand)\n",
    "\n",
    "# #see how it did\n",
    "# lr = LinearRegression().fit(train_X_trans, train_Y)\n",
    "# y_pred = lr.predict(test_X_trans)\n",
    "# rmse = np.sqrt(mean_squared_error(test_Y, y_pred))\n",
    "# print(f\"RMSE: {rmse:.2E}\")"
   ]
  },
  {
   "cell_type": "markdown",
   "metadata": {},
   "source": [
    "So we see that didn't work since we are already dropping those features value"
   ]
  },
  {
   "cell_type": "code",
   "execution_count": 19,
   "metadata": {},
   "outputs": [
    {
     "name": "stderr",
     "output_type": "stream",
     "text": [
      "/home/noel/anaconda3/envs/cs441_project/lib/python3.12/site-packages/sklearn/feature_selection/_univariate_selection.py:379: RuntimeWarning: invalid value encountered in sqrt\n",
      "  X_norms = np.sqrt(row_norms(X.T, squared=True) - n_samples * X_means**2)\n",
      "/home/noel/anaconda3/envs/cs441_project/lib/python3.12/site-packages/sklearn/feature_selection/_univariate_selection.py:379: RuntimeWarning: invalid value encountered in sqrt\n",
      "  X_norms = np.sqrt(row_norms(X.T, squared=True) - n_samples * X_means**2)\n",
      "/home/noel/anaconda3/envs/cs441_project/lib/python3.12/site-packages/sklearn/feature_selection/_univariate_selection.py:379: RuntimeWarning: invalid value encountered in sqrt\n",
      "  X_norms = np.sqrt(row_norms(X.T, squared=True) - n_samples * X_means**2)\n",
      "/home/noel/anaconda3/envs/cs441_project/lib/python3.12/site-packages/sklearn/feature_selection/_univariate_selection.py:379: RuntimeWarning: invalid value encountered in sqrt\n",
      "  X_norms = np.sqrt(row_norms(X.T, squared=True) - n_samples * X_means**2)\n",
      "/home/noel/anaconda3/envs/cs441_project/lib/python3.12/site-packages/sklearn/feature_selection/_univariate_selection.py:379: RuntimeWarning: invalid value encountered in sqrt\n",
      "  X_norms = np.sqrt(row_norms(X.T, squared=True) - n_samples * X_means**2)\n"
     ]
    },
    {
     "name": "stdout",
     "output_type": "stream",
     "text": [
      "train shape (10, 72), train y (10, 1)\n",
      "For train size 0.01, number of features: 72\n",
      "train shape (51, 72), train y (51, 1)\n",
      "For train size 0.05, number of features: 72\n",
      "train shape (102, 72), train y (102, 1)\n",
      "For train size 0.1, number of features: 72\n",
      "train shape (255, 72), train y (255, 1)\n",
      "For train size 0.25, number of features: 72\n",
      "train shape (510, 72), train y (510, 1)\n",
      "For train size 0.5, number of features: 72\n",
      "For train size 0.5, number of features: 72\n"
     ]
    },
    {
     "data": {
      "image/png": "[encoded data removed]",
      "text/plain": [
       "<Figure size 800x600 with 1 Axes>"
      ]
     },
     "metadata": {},
     "output_type": "display_data"
    }
   ],
   "source": [
    "from sklearn.model_selection import train_test_split\n",
    "import matplotlib.pyplot as plt\n",
    "\n",
    "rmse_list = []\n",
    "\n",
    "# Evaluate models with different training sizes\n",
    "training_sizes = [0.01, 0.05, 0.1, 0.25, 0.5]\n",
    "for size in training_sizes:\n",
    "    best_num_features = features[best_features_index]\n",
    "    \n",
    "    X_train_small, _, y_train_small, _  = train_test_split(train_X_stand, train_Y, train_size=size, random_state=0)\n",
    "    feature_selection = SelectKBest(score_func=f_regression, k=best_num_features)\n",
    "    feature_selection.fit(X_train_small, y_train_small.flatten())\n",
    "\n",
    "    train_X_best_features = feature_selection.transform(X_train_small)\n",
    "    test_X_best_features  = feature_selection.transform(test_X_stand)\n",
    "\n",
    "    print(f\"train shape {train_X_best_features.shape}, train y {y_train_small.shape}\")\n",
    "    lr = LinearRegression().fit(train_X_best_features, y_train_small.flatten())\n",
    "\n",
    "    y_pred = lr.predict(test_X_best_features)\n",
    "\n",
    "    print(f\"For train size {size}, number of features: {lr.n_features_in_}\")\n",
    "    # np.savetxt(f\"linear_regression_output/coef_{size}.txt\", np.round(model.coef_, 1), delimiter=\",\")\n",
    "    # print(f\"model y-intercet: {model.intercept_}\")\n",
    "    y_pred = lr.predict(test_X_best_features)\n",
    "    rmse = np.sqrt(mean_squared_error(test_Y, y_pred))\n",
    "    rmse_list.append(rmse)\n",
    "\n",
    "#100% of data. Do it apart from above since cannot split 100% of data\n",
    "best_num_features = features[best_features_index]\n",
    "\n",
    "feature_selection = SelectKBest(score_func=f_regression, k=best_num_features)\n",
    "feature_selection.fit(train_X_stand, train_Y.flatten())\n",
    "\n",
    "train_X_best_features = feature_selection.transform(train_X_stand)\n",
    "test_X_best_features  = feature_selection.transform(test_X_stand)\n",
    "\n",
    "lr = LinearRegression().fit(train_X_best_features, train_Y.flatten())\n",
    "\n",
    "y_pred = lr.predict(test_X_best_features)\n",
    "\n",
    "print(f\"For train size {size}, number of features: {lr.n_features_in_}\")\n",
    "# np.savetxt(f\"linear_regression_output/coef_{size}.txt\", np.round(model.coef_, 1), delimiter=\",\")\n",
    "# print(f\"model y-intercet: {model.intercept_}\")\n",
    "y_pred = lr.predict(test_X_best_features)\n",
    "rmse = np.sqrt(mean_squared_error(test_Y, y_pred))\n",
    "rmse_list.append(rmse)\n",
    "training_sizes.append(1)        #add the 100% \n",
    "\n",
    "# Create a plot\n",
    "plt.figure(figsize=(8, 6))\n",
    "plt.plot(training_sizes, rmse_list, marker=\"o\", linestyle=\"--\", color=\"b\")\n",
    "plt.yscale('log')\n",
    "plt.xlabel(\"Training Size (percent of training data)\")\n",
    "plt.ylabel(\"RMSE\")\n",
    "plt.title(\"Linear Regression\\nTraining Size vs. Test Performance\")\n",
    "plt.grid(True)\n",
    "plt.show()"
   ]
  }
 ],
 "metadata": {
  "kernelspec": {
   "display_name": "aml",
   "language": "python",
   "name": "python3"
  },
  "language_info": {
   "codemirror_mode": {
    "name": "ipython",
    "version": 3
   },
   "file_extension": ".py",
   "mimetype": "text/x-python",
   "name": "python",
   "nbconvert_exporter": "python",
   "pygments_lexer": "ipython3",
   "version": "3.12.2"
  }
 },
 "nbformat": 4,
 "nbformat_minor": 2
}
